{
 "cells": [
  {
   "cell_type": "markdown",
   "metadata": {},
   "source": [
    "## Randomized search for hyperparameters\n",
    "\n",
    "  - RandomForest\n",
    "  - GaussianNB\n",
    "  - Logistic Regression"
   ]
  },
  {
   "cell_type": "code",
   "execution_count": 1,
   "metadata": {},
   "outputs": [],
   "source": [
    "import pandas as pd\n",
    "from sklearn import preprocessing\n",
    "from sklearn.ensemble import RandomForestClassifier\n",
    "from sklearn import compose\n",
    "from sklearn.pipeline import Pipeline\n",
    "from sklearn.impute import SimpleImputer\n",
    "from sklearn.model_selection import cross_validate\n",
    "from sklearn.naive_bayes import GaussianNB\n",
    "from sklearn.metrics import f1_score\n",
    "from sklearn.linear_model import LogisticRegression\n",
    "import numpy as np"
   ]
  },
  {
   "cell_type": "markdown",
   "metadata": {},
   "source": [
    "### Get data"
   ]
  },
  {
   "cell_type": "code",
   "execution_count": 2,
   "metadata": {},
   "outputs": [],
   "source": [
    "df = pd.read_csv('data/instacart.csv')"
   ]
  },
  {
   "cell_type": "code",
   "execution_count": 3,
   "metadata": {},
   "outputs": [],
   "source": [
    "df = df.dropna() "
   ]
  },
  {
   "cell_type": "markdown",
   "metadata": {},
   "source": [
    "### Feature engineering / data processing"
   ]
  },
  {
   "cell_type": "code",
   "execution_count": 89,
   "metadata": {},
   "outputs": [],
   "source": [
    "def data_clean(df):\n",
    "    print('Getting dummies...')\n",
    "    df = pd.get_dummies(df, columns=['department_id'], drop_first=True)\n",
    "    \n",
    "    # find total numbers of orders\n",
    "#     print('Finding total number of orders...')\n",
    "#     temp = df.groupby('user_id').agg({'order_number' : 'max'}).reset_index()\n",
    "#     df = df.merge(temp, how='left', left_on='user_id', right_on='user_id')\n",
    "\n",
    "    # weekend flag\n",
    "    print('Creating weekend flag...')\n",
    "    df['weekend'] = 0\n",
    "    df.loc[(df['order_dow'] == 5) | (df['order_dow'] == 6),'weekend'] = 1\n",
    "    \n",
    "    # Department staples\n",
    "    print('Encoding dept staples...')\n",
    "    staples = {\n",
    "        'dairy eggs' : 1,\n",
    "        'produce' : 1,\n",
    "        'pantry' : 0,\n",
    "        'meat seafood' : 1,\n",
    "        'bakery' : 0,\n",
    "        'personal care' : 0,\n",
    "        'snacks' : 0,\n",
    "        'breakfast' : 0,\n",
    "        'beverages' : 0,\n",
    "        'deli' : 0,\n",
    "        'household' : 0,\n",
    "        'international' : 0,\n",
    "        'dry goods pasta' : 1,\n",
    "        'frozen' : 0,\n",
    "        'canned goods' : 0,\n",
    "        'babies' : 0,\n",
    "        'pets' : 0,\n",
    "        'alcohol' : 0,\n",
    "        'bulk' : 0,\n",
    "        'missing' : 0,\n",
    "        'other' : 0\n",
    "    }\n",
    "    df.loc[:, 'department_is_staple'] = df['department'].apply(lambda x: staples[x])\n",
    "    \n",
    "    print('Encoding organic products...')\n",
    "    df.loc[:, 'product_is_organic'] = 0\n",
    "    df.loc[df.product_name.apply(lambda x: 'organic' in x.lower()), 'product_is_organic'] = 1\n",
    "    \n",
    "    print('Dropping columns...')\n",
    "    df.drop(['product_name', 'aisle', 'department'], axis=1, inplace=True)\n",
    "    \n",
    "    print('Done.')\n",
    "    \n",
    "    return df"
   ]
  },
  {
   "cell_type": "markdown",
   "metadata": {},
   "source": [
    "### Train-test split\n",
    "\n",
    "Due to the huge number of rows (~37M), let's take a small subset of them just to test our randomized search code."
   ]
  },
  {
   "cell_type": "markdown",
   "metadata": {},
   "source": [
    "### Stratified shuffle split\n",
    "\n",
    "Perform stratified train-test split of our dataset on a subset of the data."
   ]
  },
  {
   "cell_type": "markdown",
   "metadata": {},
   "source": [
    "**Subset data**\n",
    "\n",
    "Randomly choose $n$ rows and perform feature eng and cleaning."
   ]
  },
  {
   "cell_type": "code",
   "execution_count": 165,
   "metadata": {},
   "outputs": [],
   "source": [
    "df_subset = df.sample(frac=0.008, replace=False, random_state=42)"
   ]
  },
  {
   "cell_type": "code",
   "execution_count": 166,
   "metadata": {},
   "outputs": [
    {
     "name": "stdout",
     "output_type": "stream",
     "text": [
      "Getting dummies...\n",
      "Creating weekend flag...\n",
      "Encoding dept staples...\n",
      "Encoding organic products...\n",
      "Dropping columns...\n",
      "Done.\n"
     ]
    }
   ],
   "source": [
    "X = data_clean(df_subset.drop(['reordered', 'eval_set'], axis=1))\n",
    "y = df_subset['reordered']"
   ]
  },
  {
   "cell_type": "markdown",
   "metadata": {},
   "source": [
    "**Use stratified shuffling**"
   ]
  },
  {
   "cell_type": "code",
   "execution_count": 167,
   "metadata": {},
   "outputs": [
    {
     "data": {
      "text/plain": [
       "1"
      ]
     },
     "execution_count": 167,
     "metadata": {},
     "output_type": "execute_result"
    }
   ],
   "source": [
    "from sklearn.model_selection import StratifiedShuffleSplit\n",
    "\n",
    "sss = StratifiedShuffleSplit(n_splits=1, test_size=0.3, random_state=42)\n",
    "sss.get_n_splits(X, y)"
   ]
  },
  {
   "cell_type": "code",
   "execution_count": 168,
   "metadata": {},
   "outputs": [
    {
     "name": "stdout",
     "output_type": "stream",
     "text": [
      "177749\n",
      "76179\n"
     ]
    }
   ],
   "source": [
    "for train_index, test_index in sss.split(X, y):\n",
    "    print(len(train_index))\n",
    "    print(len(test_index))"
   ]
  },
  {
   "cell_type": "code",
   "execution_count": 169,
   "metadata": {},
   "outputs": [],
   "source": [
    "X_train = X.iloc[train_index, :]\n",
    "y_train = y.iloc[train_index]\n",
    "X_test = X.iloc[test_index, :]\n",
    "y_test = y.iloc[test_index]"
   ]
  },
  {
   "cell_type": "code",
   "execution_count": 170,
   "metadata": {},
   "outputs": [],
   "source": [
    "assert X_train.shape[0] == y_train.shape[0]\n",
    "assert X_test.shape[0] == y_test.shape[0]"
   ]
  },
  {
   "cell_type": "markdown",
   "metadata": {},
   "source": [
    "### RandomizedSearch on Logistic Regression"
   ]
  },
  {
   "cell_type": "code",
   "execution_count": 171,
   "metadata": {},
   "outputs": [],
   "source": [
    "from sklearn.model_selection import RandomizedSearchCV"
   ]
  },
  {
   "cell_type": "code",
   "execution_count": 172,
   "metadata": {},
   "outputs": [],
   "source": [
    "def make_random_cv(estimator, param_distr, cv=3, n_iter=5):\n",
    "    \"\"\"\n",
    "    Steps:\n",
    "    1. Define Estimator\n",
    "    2. Define hyperparameter search space\n",
    "    3. Instantiate RandomizedSearchCV\n",
    "    \"\"\"\n",
    "    \n",
    "    random_cv = RandomizedSearchCV(\n",
    "                    estimator=estimator,\n",
    "                    cv=cv,\n",
    "                    param_distributions=param_distr,\n",
    "                    n_iter=n_iter\n",
    "                )\n",
    "    \n",
    "    return random_cv"
   ]
  },
  {
   "cell_type": "code",
   "execution_count": 176,
   "metadata": {},
   "outputs": [],
   "source": [
    "rf_est = RandomForestClassifier(random_state=42)\n",
    "param_distr = {\n",
    "    'n_estimators' : [i * 50 for i in range(1, 5)],\n",
    "    'max_features' : [i for i in range(1, 5)],\n",
    "    'min_samples_leaf' : [100, 500, 1500, 5000]\n",
    "}\n",
    "rf_random_cv = make_random_cv(rf_est, param_distr)"
   ]
  },
  {
   "cell_type": "markdown",
   "metadata": {},
   "source": [
    "**Fit and predict using the best estimator returned from randomsearch**"
   ]
  },
  {
   "cell_type": "code",
   "execution_count": null,
   "metadata": {},
   "outputs": [
    {
     "name": "stdout",
     "output_type": "stream",
     "text": [
      "{'n_estimators': 100, 'min_samples_leaf': 100, 'max_features': 4}\n",
      "0.796953431838498\n",
      "{'n_estimators': 100, 'min_samples_leaf': 500, 'max_features': 4}\n",
      "0.7915235411075053\n"
     ]
    }
   ],
   "source": [
    "for i in range(3):\n",
    "    rf_random_cv.fit(X_train, y_train)\n",
    "    print(rf_random_cv.best_params_)\n",
    "    y_pred = rf_random_cv.best_estimator_.predict(X_train)\n",
    "    print(f1_score(y_train, y_pred, average='binary'))"
   ]
  },
  {
   "cell_type": "code",
   "execution_count": 94,
   "metadata": {},
   "outputs": [
    {
     "name": "stdout",
     "output_type": "stream",
     "text": [
      "Getting dummies...\n",
      "Creating weekend flag...\n",
      "Encoding dept staples...\n",
      "Encoding organic products...\n",
      "Dropping columns...\n",
      "Done.\n",
      "Getting dummies...\n",
      "Creating weekend flag...\n",
      "Encoding dept staples...\n",
      "Encoding organic products...\n",
      "Dropping columns...\n",
      "Done.\n"
     ]
    }
   ],
   "source": [
    "train_subset_size = 0.001\n",
    "test_subset_size = 0.001\n",
    "\n",
    "train_df = train_df.sample(frac=train_subset_size, replace=False, random_state=42)\n",
    "test_df = test_df.sample(frac=test_subset_size, replace=False, random_state=42)\n",
    "\n",
    "x_train = data_clean(train_df.drop(['reordered', 'eval_set'], axis=1))\n",
    "x_test = data_clean(test_df.drop(['reordered', 'eval_set'], axis=1))\n",
    "\n",
    "y_train = train_df['reordered']\n",
    "y_test = test_df['reordered']"
   ]
  }
 ],
 "metadata": {
  "kernelspec": {
   "display_name": "Python 3",
   "language": "python",
   "name": "python3"
  },
  "language_info": {
   "codemirror_mode": {
    "name": "ipython",
    "version": 3
   },
   "file_extension": ".py",
   "mimetype": "text/x-python",
   "name": "python",
   "nbconvert_exporter": "python",
   "pygments_lexer": "ipython3",
   "version": "3.7.4"
  }
 },
 "nbformat": 4,
 "nbformat_minor": 4
}
